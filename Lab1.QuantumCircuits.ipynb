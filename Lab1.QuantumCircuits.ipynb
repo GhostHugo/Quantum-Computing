{
 "cells": [
  {
   "cell_type": "markdown",
   "metadata": {
    "slideshow": {
     "slide_type": "slide"
    }
   },
   "source": [
    "# Quantum Computing\n",
    "\n",
    "## Lab 1. Quantum Circuits\n",
    "\n",
    "**Frank C Langbein**\n",
    "\n",
    "$\\def\\ket#1{|#1\\rangle} \\def\\bra#1{\\langle#1|}$"
   ]
  },
  {
   "cell_type": "code",
   "execution_count": 1,
   "metadata": {
    "slideshow": {
     "slide_type": "-"
    }
   },
   "outputs": [],
   "source": [
    "from qutip import *\n",
    "from qutip.qip.operations import *\n",
    "import numpy as np"
   ]
  },
  {
   "cell_type": "markdown",
   "metadata": {
    "slideshow": {
     "slide_type": "slide"
    }
   },
   "source": [
    "# Quirk\n",
    "\n",
    "  * Start [quirk (local)](quirk.html) or [remote (remote)](https://algassert.com/quirk)\n",
    "  \n",
    "  * Familiarise yourself with the top toolbox and understand how to construct circuits\n",
    "    * View the [tutorial](https://www.youtube.com/watch?v=aloFwlBUwsQ)\n",
    "    \n",
    "  * Create a circuit to generate the following single qubit states\n",
    "    * $(\\ket{0} +  \\ket{1})/\\sqrt{2}$\n",
    "    * $(\\ket{0} - i\\ket{1})/\\sqrt{2}$\n",
    "    * $(\\ket{0} + i\\ket{1})/\\sqrt{2}$\n",
    "    * $\\ket{1}$\n",
    "  \n",
    "  * Create a circuit to produce a GHZ (Greenberger Horne Zeilinger) state: $(\\ket{000} + \\ket{111})/\\sqrt{2}$\n",
    "    * Note, GHZ states for more quibits are equivalently defined to this 3-qubit state"
   ]
  },
  {
   "cell_type": "markdown",
   "metadata": {
    "slideshow": {
     "slide_type": "subslide"
    }
   },
   "source": [
    "# Solution\n",
    "\n",
    "* [Create your single qubit states circuit here](quirk.html)"
   ]
  },
  {
   "cell_type": "markdown",
   "metadata": {
    "slideshow": {
     "slide_type": "-"
    }
   },
   "source": [
    "* [Create your GHZ state circuit here](quirk.html)"
   ]
  },
  {
   "cell_type": "markdown",
   "metadata": {
    "slideshow": {
     "slide_type": "slide"
    }
   },
   "source": [
    "# CNOT with Hadamard Gates\n",
    "\n",
    "* Consider the [Hadamard with CNOT circuit](quirk.html#circuit=%7B\"cols\":%5B%5B\"H\",\"H\"%5D,%5B\"•\",\"X\"%5D,%5B\"H\",\"H\"%5D%5D%7D)\n",
    "\n",
    "* Which two qubit gate is equivalnet to this circuit? Proof your answer by calculating the circuit matrix (with qutip, numpy or manually) and construct the equivalent circuit in quirk.\n",
    "\n"
   ]
  },
  {
   "cell_type": "markdown",
   "metadata": {
    "slideshow": {
     "slide_type": "subslide"
    }
   },
   "source": [
    "# Solution"
   ]
  },
  {
   "cell_type": "code",
   "execution_count": 2,
   "metadata": {
    "slideshow": {
     "slide_type": "-"
    }
   },
   "outputs": [],
   "source": [
    "# Python code to calculate circuit operator\n"
   ]
  },
  {
   "cell_type": "markdown",
   "metadata": {
    "slideshow": {
     "slide_type": "-"
    }
   },
   "source": [
    "[Create your equivalent quirk circuit here](quirk.html)"
   ]
  },
  {
   "cell_type": "markdown",
   "metadata": {
    "slideshow": {
     "slide_type": "slide"
    }
   },
   "source": [
    "# Circuit Equivalence\n",
    "\n",
    "Show that in this [circuit](quirk.html#circuit={\"cols\":[[\"X\",\"•\",\"•\"],[1,1,1,\"X^½\",\"•\"],[1,1,1,1,\"X\",\"•\"],[1,1,1,\"X^-½\",\"•\"],[1,1,1,1,\"X\",\"•\"],[1,1,1,\"X^½\",1,\"•\"]]}) from the lecture, the gate on the first three qubits is identical to the gate on the last three qubits (using qutip, numpy or manually).\n",
    "\n",
    "Create a similar circuit equivalence for a controlled Y gate."
   ]
  },
  {
   "cell_type": "markdown",
   "metadata": {
    "slideshow": {
     "slide_type": "-"
    }
   },
   "source": [
    "# Solution"
   ]
  },
  {
   "cell_type": "code",
   "execution_count": 3,
   "metadata": {
    "slideshow": {
     "slide_type": "subslide"
    }
   },
   "outputs": [],
   "source": [
    "# Python code to compare the circuits"
   ]
  },
  {
   "cell_type": "markdown",
   "metadata": {
    "slideshow": {
     "slide_type": "-"
    }
   },
   "source": [
    "[Create your circuit for CCY here](quirk.html)"
   ]
  }
 ],
 "metadata": {
  "celltoolbar": "Slideshow",
  "kernelspec": {
   "display_name": "Python 3",
   "language": "python",
   "name": "python3"
  },
  "language_info": {
   "codemirror_mode": {
    "name": "ipython",
    "version": 3
   },
   "file_extension": ".py",
   "mimetype": "text/x-python",
   "name": "python",
   "nbconvert_exporter": "python",
   "pygments_lexer": "ipython3",
   "version": "3.7.6"
  },
  "latex_envs": {
   "LaTeX_envs_menu_present": true,
   "autoclose": false,
   "autocomplete": true,
   "bibliofile": "biblio.bib",
   "cite_by": "apalike",
   "current_citInitial": 1,
   "eqLabelWithNumbers": true,
   "eqNumInitial": 1,
   "hotkeys": {
    "equation": "Ctrl-E",
    "itemize": "Ctrl-I"
   },
   "labels_anchors": false,
   "latex_user_defs": false,
   "report_style_numbering": false,
   "user_envs_cfg": false
  }
 },
 "nbformat": 4,
 "nbformat_minor": 2
}
