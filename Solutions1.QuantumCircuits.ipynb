{
 "cells": [
  {
   "cell_type": "markdown",
   "metadata": {
    "slideshow": {
     "slide_type": "slide"
    }
   },
   "source": [
    "# Quantum Computing\n",
    "\n",
    "## Lab 1. Quantum Circuits\n",
    "\n",
    "**Frank C Langbein**\n",
    "\n",
    "$\\def\\ket#1{|#1\\rangle} \\def\\bra#1{\\langle#1|}$"
   ]
  },
  {
   "cell_type": "code",
   "execution_count": 1,
   "metadata": {
    "slideshow": {
     "slide_type": "-"
    }
   },
   "outputs": [],
   "source": [
    "from qutip import *\n",
    "import numpy as np"
   ]
  },
  {
   "cell_type": "markdown",
   "metadata": {
    "slideshow": {
     "slide_type": "slide"
    }
   },
   "source": [
    "# Quirk\n",
    "\n",
    "  * Start [quirk (local)](quirk.html) or [remote (remote)](https://algassert.com/quirk)\n",
    "  \n",
    "  * Familiarise yourself with the top toolbox and understand how to construct circuits\n",
    "    * View the [tutorial](https://www.youtube.com/watch?v=aloFwlBUwsQ)\n",
    "    \n",
    "  * Create a circuit to generate the following single qubit states\n",
    "    * $(\\ket{0} +  \\ket{1})/\\sqrt{2}$\n",
    "    * $(\\ket{0} - i\\ket{1})/\\sqrt{2}$\n",
    "    * $(\\ket{0} + i\\ket{1})/\\sqrt{2}$\n",
    "    * $\\ket{1}$\n",
    "  \n",
    "  * Create a circuit to produce a GHZ (Greenberger Horne Zeilinger) state: $(\\ket{000} + \\ket{111})/\\sqrt{2}$\n",
    "    * Note, GHZ states for more quibits are equivalently defined to this 3-qubit state"
   ]
  },
  {
   "cell_type": "markdown",
   "metadata": {
    "slideshow": {
     "slide_type": "subslide"
    }
   },
   "source": [
    "# Solution\n",
    "\n",
    "* [Single Qubit State circuit](quirk.html#circuit={\"cols\":[[\"H\",\"X^½\",\"X^-½\",\"X\"],[\"Amps1\",\"Amps1\",\"Amps1\",\"Amps1\"]]})"
   ]
  },
  {
   "cell_type": "markdown",
   "metadata": {
    "slideshow": {
     "slide_type": "-"
    }
   },
   "source": [
    "* [GHZ state circuit](quirk.html#circuit={%22cols%22:[[%22H%22],[%22%E2%80%A2%22,%22X%22],[1,%22%E2%80%A2%22,%22X%22]]})\n",
    "  * Just add more CNOTs in the same manner for GHZ states with more qubits"
   ]
  },
  {
   "cell_type": "markdown",
   "metadata": {
    "slideshow": {
     "slide_type": "slide"
    }
   },
   "source": [
    "# CNOT with Hadamard Gates\n",
    "\n",
    "* Consider the [Hadamard with CNOT circuit](quirk.html#circuit=%7B\"cols\":%5B%5B\"H\",\"H\"%5D,%5B\"•\",\"X\"%5D,%5B\"H\",\"H\"%5D%5D%7D)\n",
    "\n",
    "* Which two qubit gate is equivalnet to this circuit? Proof your answer by calculating the circuit matrix (with qutip or manually) and construct the equivalent circuit in quirk.\n",
    "\n"
   ]
  },
  {
   "cell_type": "markdown",
   "metadata": {
    "slideshow": {
     "slide_type": "subslide"
    }
   },
   "source": [
    "# Solution"
   ]
  },
  {
   "cell_type": "code",
   "execution_count": 2,
   "metadata": {
    "slideshow": {
     "slide_type": "-"
    }
   },
   "outputs": [
    {
     "name": "stdout",
     "output_type": "stream",
     "text": [
      "[[1.+0.j 0.+0.j 0.+0.j 0.+0.j]\n",
      " [0.+0.j 1.+0.j 0.+0.j 0.+0.j]\n",
      " [0.+0.j 0.+0.j 0.+0.j 1.+0.j]\n",
      " [0.+0.j 0.+0.j 1.+0.j 0.+0.j]]\n"
     ]
    },
    {
     "name": "stderr",
     "output_type": "stream",
     "text": [
      "/usr/lib/python3/dist-packages/ipykernel_launcher.py:4: DeprecationWarning: Importing functions/classes of the qip submodule directly from the namespace qutip is deprecated. Please import them from the submodule instead, e.g.\n",
      "from qutip.qip.operations import cnot\n",
      "from qutip.qip.circuit import QubitCircuit\n",
      "\n",
      "  after removing the cwd from sys.path.\n"
     ]
    }
   ],
   "source": [
    "# Python code to calculate circuit operator\n",
    "\n",
    "# Individual gates\n",
    "H = snot()\n",
    "CNOT = tensor( qeye(2), ket(\"0\")*bra(\"0\") ) + tensor( sigmax(), ket(\"1\")*bra(\"1\") )\n",
    "                  \n",
    "# Full circuit\n",
    "CIRCUIT = tensor(H,H) * CNOT * tensor(H,H)\n",
    "\n",
    "print(CIRCUIT.full())"
   ]
  },
  {
   "cell_type": "markdown",
   "metadata": {
    "slideshow": {
     "slide_type": "-"
    }
   },
   "source": [
    "This is a CNOT gate with the first qubit being the target and the second qubit the control:\n",
    "\n",
    "[equivalent quirk circuit](quirk.html#circuit={\"cols\":[[\"X\",\"•\"]]})\n",
    "\n",
    "This demonstrates the equivalence of these circuits:\n",
    "\n",
    "[demonstration of equivalent quirk circuit](quirk.html#circuit={%22cols%22:[[%22X^t%22,%22~87lj%22,%22X^t%22,%22~87lj%22],[%22H%22,%22H%22],[%22%E2%80%A2%22,%22X%22],[%22H%22,%22H%22],[1,1,%22X%22,%22%E2%80%A2%22],[%22Density2%22,1,%22Density2%22]],%22gates%22:[{%22id%22:%22~87lj%22,%22name%22:%22signal%22,%22circuit%22:{%22cols%22:[[%22e^-iYt%22],[%22X^t%22]]}}]})\n",
    "\n"
   ]
  },
  {
   "cell_type": "markdown",
   "metadata": {
    "slideshow": {
     "slide_type": "slide"
    }
   },
   "source": [
    "# Circuit Equivalence\n",
    "\n",
    "Show that in this [circuit](quirk.html#circuit={\"cols\":[[\"X\",\"•\",\"•\"],[1,1,1,\"X^½\",\"•\"],[1,1,1,1,\"X\",\"•\"],[1,1,1,\"X^-½\",\"•\"],[1,1,1,1,\"X\",\"•\"],[1,1,1,\"X^½\",1,\"•\"]]}) from the lecture, the gate on the first three qubits is identical to the gate on the last three qubits (using qutip or manually).\n",
    "\n",
    "Create a similar circuit equivalence for a controlled Y gate.\n"
   ]
  },
  {
   "cell_type": "markdown",
   "metadata": {
    "slideshow": {
     "slide_type": "subslide"
    }
   },
   "source": [
    "# Solution"
   ]
  },
  {
   "cell_type": "code",
   "execution_count": 3,
   "metadata": {
    "slideshow": {
     "slide_type": "-"
    }
   },
   "outputs": [
    {
     "name": "stdout",
     "output_type": "stream",
     "text": [
      "CCNOT = \n",
      "[[1.+0.j 0.+0.j 0.+0.j 0.+0.j 0.+0.j 0.+0.j 0.+0.j 0.+0.j]\n",
      " [0.+0.j 1.+0.j 0.+0.j 0.+0.j 0.+0.j 0.+0.j 0.+0.j 0.+0.j]\n",
      " [0.+0.j 0.+0.j 1.+0.j 0.+0.j 0.+0.j 0.+0.j 0.+0.j 0.+0.j]\n",
      " [0.+0.j 0.+0.j 0.+0.j 1.+0.j 0.+0.j 0.+0.j 0.+0.j 0.+0.j]\n",
      " [0.+0.j 0.+0.j 0.+0.j 0.+0.j 1.+0.j 0.+0.j 0.+0.j 0.+0.j]\n",
      " [0.+0.j 0.+0.j 0.+0.j 0.+0.j 0.+0.j 1.+0.j 0.+0.j 0.+0.j]\n",
      " [0.+0.j 0.+0.j 0.+0.j 0.+0.j 0.+0.j 0.+0.j 0.+0.j 1.+0.j]\n",
      " [0.+0.j 0.+0.j 0.+0.j 0.+0.j 0.+0.j 0.+0.j 1.+0.j 0.+0.j]]\n",
      "CIRCUIT = \n",
      "[[1.+0.j 0.+0.j 0.+0.j 0.+0.j 0.+0.j 0.+0.j 0.+0.j 0.+0.j]\n",
      " [0.+0.j 1.+0.j 0.+0.j 0.+0.j 0.+0.j 0.+0.j 0.+0.j 0.+0.j]\n",
      " [0.+0.j 0.+0.j 1.+0.j 0.+0.j 0.+0.j 0.+0.j 0.+0.j 0.+0.j]\n",
      " [0.+0.j 0.+0.j 0.+0.j 1.+0.j 0.+0.j 0.+0.j 0.+0.j 0.+0.j]\n",
      " [0.+0.j 0.+0.j 0.+0.j 0.+0.j 1.+0.j 0.+0.j 0.+0.j 0.+0.j]\n",
      " [0.+0.j 0.+0.j 0.+0.j 0.+0.j 0.+0.j 1.+0.j 0.+0.j 0.+0.j]\n",
      " [0.+0.j 0.+0.j 0.+0.j 0.+0.j 0.+0.j 0.+0.j 0.+0.j 1.+0.j]\n",
      " [0.+0.j 0.+0.j 0.+0.j 0.+0.j 0.+0.j 0.+0.j 1.+0.j 0.+0.j]]\n",
      "Fidelity = 1.0\n"
     ]
    }
   ],
   "source": [
    "# Python code to compare the circuits\n",
    "\n",
    "# CCNOT circuit for first three quibits:\n",
    "# (|00><00| + |01><01| + |10><10|) x I + |11><11| x X\n",
    "CCNOT = tensor (ket(\"00\")*bra(\"00\")+ket(\"01\")*bra(\"01\")+ket(\"10\")*bra(\"10\"), qeye(2)) \\\n",
    "        + tensor(ket(\"11\")*bra(\"11\"), sigmax())\n",
    "\n",
    "print(\"CCNOT = \"); print(CCNOT.full())\n",
    "\n",
    "# First Controlled X^1/2 gate: I x [(0><0| x I) + (|1><1|) x X^{1/2})]\n",
    "G1 = tensor(qeye(2), \\\n",
    "            tensor(ket(\"0\")*bra(\"0\"), qeye(2)) \\\n",
    "            + tensor(ket(\"1\")*bra(\"1\"), sigmax().sqrtm()))\n",
    "\n",
    "# Controlled NOT gate (used twiced): [(0><0| x I) + (|1><1|) x X)] x I\n",
    "G2 = tensor(tensor(ket(\"0\")*bra(\"0\"), qeye(2)) \\\n",
    "            + tensor(ket(\"1\")*bra(\"1\"), sigmax()), \\\n",
    "            qeye(2))\n",
    "\n",
    "# Calulcate X^{-1/2} via numpy and generate qutip gate from it\n",
    "X2I = Qobj(np.linalg.inv(sigmax().sqrtm().full()))\n",
    "# Controlled X^{-1/2} gate: I x [ (|0><0| x I) + (|1><1| * X^{-1/2}) ]\n",
    "G3 = tensor(qeye(2), \\\n",
    "            tensor(ket(\"0\")*bra(\"0\"), qeye(2)) \\\n",
    "            + tensor(ket(\"1\")*bra(\"1\"), X2I) )\n",
    "\n",
    "# Second controlled X^1/2 gate: |0><0| x I x I + |1><1| x I x X^{1/2}\n",
    "G4 = tensor(ket(\"0\")*bra(\"0\"), tensor(qeye(2), qeye(2))) + \\\n",
    "     tensor(ket(\"1\")*bra(\"1\"), tensor(qeye(2), sigmax().sqrtm()) )\n",
    "\n",
    "# Full circuit for last three qubits:\n",
    "CIRCUIT = G4 * G2 * G3 * G2 * G1\n",
    "            \n",
    "print(\"CIRCUIT = \"); print(CIRCUIT.full())\n",
    "\n",
    "# Compare the two circuit operators\n",
    "# If A and B are unitary and B is the inverse of A, then\n",
    "#    A * B^\\dagger = I\n",
    "# The trace of a matrix is unique and 8 for the identiy of a 3 qubit system. So\n",
    "#   tr(A * B^\\dagger)/8 = 1\n",
    "# iff A and B are identical\n",
    "print(\"Fidelity =\", (CIRCUIT * CCNOT.dag()).tr() / 8)"
   ]
  },
  {
   "cell_type": "markdown",
   "metadata": {
    "slideshow": {
     "slide_type": "-"
    }
   },
   "source": [
    "The approach taking the square roots of the operators is universal to get a CC-Operator gate.\n",
    "\n",
    "[Circuit for CCY](quirk.html#circuit={\"cols\":[[\"X^t\",\"X\",\"X\",\"X^t\",\"X\",\"X\"],[\"Bloch\",1,1,\"Bloch\"],[\"Y\",\"•\",\"•\"],[1,1,1,\"Y^½\",\"•\"],[1,1,1,1,\"X\",\"•\"],[1,1,1,\"Y^-½\",\"•\"],[1,1,1,1,\"X\",\"•\"],[1,1,1,\"Y^½\",1,\"•\"],[\"Density3\",1,1,\"Density3\"]]})\n"
   ]
  }
 ],
 "metadata": {
  "celltoolbar": "Slideshow",
  "kernelspec": {
   "display_name": "Python 3",
   "language": "python",
   "name": "python3"
  },
  "language_info": {
   "codemirror_mode": {
    "name": "ipython",
    "version": 3
   },
   "file_extension": ".py",
   "mimetype": "text/x-python",
   "name": "python",
   "nbconvert_exporter": "python",
   "pygments_lexer": "ipython3",
   "version": "3.7.6"
  },
  "latex_envs": {
   "LaTeX_envs_menu_present": true,
   "autoclose": false,
   "autocomplete": true,
   "bibliofile": "biblio.bib",
   "cite_by": "apalike",
   "current_citInitial": 1,
   "eqLabelWithNumbers": true,
   "eqNumInitial": 1,
   "hotkeys": {
    "equation": "Ctrl-E",
    "itemize": "Ctrl-I"
   },
   "labels_anchors": false,
   "latex_user_defs": false,
   "report_style_numbering": false,
   "user_envs_cfg": false
  }
 },
 "nbformat": 4,
 "nbformat_minor": 2
}
