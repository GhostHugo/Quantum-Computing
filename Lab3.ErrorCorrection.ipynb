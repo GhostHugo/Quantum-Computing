{
 "cells": [
  {
   "cell_type": "markdown",
   "metadata": {
    "slideshow": {
     "slide_type": "slide"
    }
   },
   "source": [
    "# Quantum Computing\n",
    "\n",
    "## Lab 3. Error Correction\n",
    "\n",
    "**Frank C Langbein**\n",
    "\n",
    "$\\def\\ket#1{|#1\\rangle} \\def\\bra#1{\\langle#1|}$"
   ]
  },
  {
   "cell_type": "code",
   "execution_count": 1,
   "metadata": {
    "slideshow": {
     "slide_type": "-"
    }
   },
   "outputs": [],
   "source": [
    "from qutip import *\n",
    "import numpy as np"
   ]
  },
  {
   "cell_type": "markdown",
   "metadata": {
    "slideshow": {
     "slide_type": "slide"
    }
   },
   "source": [
    "# Fault Tolerant Simple Gates\n",
    "\n",
    "Consider the [CNOT circuit](quirk.html#circuit={\"cols\":[[\"X\"],[\"~87lj\",\"~87lj\"],[\"Bloch\",\"Bloch\"],[\"Amps1\",\"Amps1\"],[],[\"•\",\"X\"],[\"Amps1\",\"Amps1\"],[],[\"Bloch\",\"Bloch\"],[\"Density\",\"Density\"],[\"~f7c0\",\"~f7c0\"]],\"gates\":[{\"id\":\"~87lj\",\"name\":\"message\",\"circuit\":{\"cols\":[[\"e^-iYt\"],[\"X^t\"]]}},{\"id\":\"~f7c0\",\"name\":\"received\",\"matrix\":\"{{1,0},{0,1}}\"}]}).\n",
    "\n",
    "Use a bit-flip code to create a fault-tolerant CNOT gate (against a single bit-flip).\n",
    "\n",
    "Similarly, what would be a fault-tolerant $H$, $X$ or $Z$ gate be?"
   ]
  },
  {
   "cell_type": "markdown",
   "metadata": {
    "slideshow": {
     "slide_type": "subslide"
    }
   },
   "source": [
    "# Solution\n",
    "\n",
    " * [Fault Tolerance CNOT circuit](quirk.html#circuit={\"cols\":[[\"X\"],[\"~87lj\",\"~87lj\"],[\"Bloch\",\"Bloch\"],[\"Amps1\",\"Amps1\"],[],[\"•\",\"X\"],[\"Amps1\",\"Amps1\"],[],[\"Bloch\",\"Bloch\"],[\"Density\",\"Density\"],[\"~f7c0\",\"~f7c0\"]],\"gates\":[{\"id\":\"~87lj\",\"name\":\"message\",\"circuit\":{\"cols\":[[\"e^-iYt\"],[\"X^t\"]]}},{\"id\":\"~f7c0\",\"name\":\"received\",\"matrix\":\"{{1,0},{0,1}}\"}]})\n",
    "\n",
    " * In the other cases: ?"
   ]
  }
 ],
 "metadata": {
  "celltoolbar": "Slideshow",
  "hide_input": false,
  "kernelspec": {
   "display_name": "Python 3",
   "language": "python",
   "name": "python3"
  },
  "language_info": {
   "codemirror_mode": {
    "name": "ipython",
    "version": 3
   },
   "file_extension": ".py",
   "mimetype": "text/x-python",
   "name": "python",
   "nbconvert_exporter": "python",
   "pygments_lexer": "ipython3",
   "version": "3.7.6"
  },
  "latex_envs": {
   "LaTeX_envs_menu_present": true,
   "autoclose": false,
   "autocomplete": true,
   "bibliofile": "biblio.bib",
   "cite_by": "apalike",
   "current_citInitial": 1,
   "eqLabelWithNumbers": true,
   "eqNumInitial": 1,
   "hotkeys": {
    "equation": "Ctrl-E",
    "itemize": "Ctrl-I"
   },
   "labels_anchors": false,
   "latex_user_defs": false,
   "report_style_numbering": false,
   "user_envs_cfg": false
  }
 },
 "nbformat": 4,
 "nbformat_minor": 2
}
