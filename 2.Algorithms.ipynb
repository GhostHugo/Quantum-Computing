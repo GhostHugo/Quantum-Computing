{
 "cells": [
  {
   "cell_type": "markdown",
   "metadata": {
    "slideshow": {
     "slide_type": "slide"
    }
   },
   "source": [
    "# Quantum Computing\n",
    "\n",
    "## 2. Algorithms\n",
    "\n",
    "**Frank C Langbein**\n",
    "\n",
    "$\\def\\ket#1{|#1\\rangle} \\def\\bra#1{\\langle#1|}$"
   ]
  },
  {
   "cell_type": "code",
   "execution_count": 1,
   "metadata": {
    "slideshow": {
     "slide_type": "-"
    }
   },
   "outputs": [],
   "source": [
    "from qutip import *\n",
    "from qutip.qip.operations import *\n",
    "import numpy as np"
   ]
  },
  {
   "cell_type": "markdown",
   "metadata": {
    "slideshow": {
     "slide_type": "slide"
    }
   },
   "source": [
    "# Deutsch-Jozsa Problem\n",
    "\n",
    "* Let $f(x)$ be a function mapping $n$-bit strings $x$ to $\\{0,1\\}$\n",
    "  * $f$ is either a **constant** function (taking the same value $c\\in\\{0,1\\}$ for all inputs) or\n",
    "  * $f$ is a **balanced** function (taking each value $0$, $1$ for exactly half of the inputs)\n",
    "* Determine if $f$ is **constant** or **balanced** by making as few calls to $f$ as possible\n",
    "\n",
    "* Classical algorithm\n",
    "  * In the worst case, $2^{n-1} + 1$ evaluations of $f$ needed (test one more than half of the inputs)\n",
    "* Quantum algorithm\n",
    "  * Only one evaluation of $f$ is required\n",
    "  \n",
    "* First algorithm showing separation between quantum and classical complexity\n",
    "  * Crucially, it uses the phase information"
   ]
  },
  {
   "cell_type": "markdown",
   "metadata": {
    "slideshow": {
     "slide_type": "slide"
    }
   },
   "source": [
    "# Oracles\n",
    "\n",
    "* A quantum representation of $f$ is required\n",
    "  * Note, a reversible classical representation of any Boolean funciton $f$ is\n",
    "    $$[x_1,\\dots,x_n,y] \\mapsto [x_1,\\dots,x_n,y \\oplus f(x_1,\\dots,x_n)]$$\n",
    "    where $\\oplus$ is the addition modulo $2$.\n",
    "  * We already had this for CCNOT (Toffoli gate)\n",
    "    $$[x_1,x_2,y] \\mapsto [x_1,x_2,y \\oplus \\text{AND}(x_1,x_2)]$$\n",
    "    as reversible AND gate\n",
    "\n",
    "* Note, this means a quantum computer can calculate everything a classical computer can\n",
    "  * There is a reversible version of any Boolean function\n",
    "  * Represent input $x$ of $f$ as $n$ qubits $\\ket{x}$, encoding the bits in $x$ as $\\ket{0}$, $\\ket{1}$ instead\n",
    "  * Add an output qubit $\\ket{y}$, representing the result of $f(x)$\n",
    "\n",
    "* We still need the unitary operation $U_f$ for $f(x)$\n",
    "  * This is referred to as **oracle**\n",
    "  * \"all powerful\", telling us the functIon value on any given input (e.g. whether it is correct or not)"
   ]
  },
  {
   "cell_type": "markdown",
   "metadata": {
    "slideshow": {
     "slide_type": "subslide"
    }
   },
   "source": [
    "# Bit Oracles\n",
    "\n",
    "* Create unitary operator $U_f$ such that\n",
    "  $$U_f\\ket{x_n,\\dots,x_1,y} = \\ket{x_n,\\dots,x_1,y\\oplus f(x_1,\\dots,x_n)}$$\n",
    "\n",
    "* For a one-bit $f(x_1) = x_1$:\n",
    "  $$U_\\text{const}\\ket{x_1,y} = \\ket{x_1,y\\oplus x_1}$$\n",
    "  * This is a CNOT gate (control is $x_1$ and target is $y$)\n",
    "\n",
    "* For three-bit $f(x_1,x_2,x_3) = (x_1\\ \\text{AND}\\ x_2)\\ \\text{OR}\\ x_3$\n",
    "  $$U_f\\ket{x_3,x_2,x_1,y} = \\ket{x_3,x_2,x_1,y\\oplus f(x_1,x_2,x_3)}$$\n",
    "  * [circuit](quirk.html#circuit={%22cols%22:[[%22%E2%97%A6%22,%22%E2%97%A6%22,%22%E2%97%A6%22],[%22%E2%80%A2%22,%22%E2%97%A6%22,%22%E2%97%A6%22],[%22%E2%97%A6%22,%22%E2%80%A2%22,%22%E2%97%A6%22],[%22%E2%80%A2%22,%22%E2%80%A2%22,%22%E2%97%A6%22],[%22%E2%97%A6%22,%22%E2%97%A6%22,%22%E2%80%A2%22],[%22%E2%80%A2%22,%22%E2%97%A6%22,%22%E2%80%A2%22],[%22%E2%97%A6%22,%22%E2%80%A2%22,%22%E2%80%A2%22],[%22%E2%80%A2%22,%22%E2%80%A2%22,%22%E2%80%A2%22]]})  "
   ]
  },
  {
   "cell_type": "markdown",
   "metadata": {
    "slideshow": {
     "slide_type": "subslide"
    }
   },
   "source": [
    "# Sign Oracles\n",
    "\n",
    "* We can apply the oracle to general quantum states, not just the $Z$-basis\n",
    "  * This enables us to ask quantum questions, not just classical questions\n",
    "  \n",
    "* What if we replace $\\ket{y}$ on the first qubit with $\\ket{-}$?\n",
    "  $$U_f (\\ket{x_n,\\dots,x_1} \\otimes \\ket{-})\n",
    "    = U_f \\left(\\frac{1}{\\sqrt{2}} \\ket{x_n,\\dots,x_1,0} - \\frac{1}{\\sqrt{2}} \\ket{x_n,\\dots,x_1,1}\\right)$$\n",
    "  $$= \\frac{1}{\\sqrt{2}}\\left( \\ket{x_n,\\dots,x_1,f(x_1,\\dots,x_n)} - \\ket{x_n,\\dots,x_1,1 \\oplus f(x_1,\\dots,x_n)}\\right)$$\n",
    "  $$= \\ket{x_n,\\dots,x_1} \\otimes \\frac{1}{\\sqrt{2}} \\left(\\ket{f(x_1,\\dots,x_n)} - \\ket{f(x_1,\\dots,x_n)\\oplus1}\\right)$$\n",
    "  $$= (-1)^{f(x_1,\\dots,x_n)} (\\ket{x_n,\\dots,x_1} \\otimes \\ket{-})$$\n",
    "  * $\\ket{-}$ remains unchanged, but we pick up an overall minus sign if $f(x_1,\\dots,x_n) = 1$\n"
   ]
  },
  {
   "cell_type": "markdown",
   "metadata": {
    "slideshow": {
     "slide_type": "subslide"
    }
   },
   "source": [
    "* This is the same than applying the **sign oracle** $O_f$ on the first $n$ qubits\n",
    "  $$O_f\\ket{x} = (-1)^{f(x)}\\ket{x}$$\n",
    "  * For $Z$-basis states, this does not do much (the overall sign is not observable)\n",
    "  * For superposition states, this can introduce \"relative signs\"\n",
    "\n",
    "* Practically this flips the phase for the states for which $f$ is $1$\n",
    "  * Note $HXH = Z$ and $HZH = X$\n",
    "    * A many-controlled NOT gate can be turned into a many-controlled phase gate and vice versa by bracketing the gate (not the controls) with $H$\n",
    "    * Braket any controls that switch on $0$ instead of $1$ with $X$\n",
    "  * Flip the phase of $\\ket{111}$: [circuit](quirk.html#circuit={\"cols\":[[\"X\",\"X\",\"X\"],[\"Z\",\"•\",\"•\"]]})\n",
    "  * Flip the phase of $\\ket{101}$: [circuit](quirk.html#circuit={\"cols\":[[\"X\",1,\"X\"],[1,\"X\"],[\"Z\",\"•\",\"•\"],[1,\"X\"]]})\n",
    "\n",
    "* Balanced example: $f = 1$ for even number of bits, otherwise $0$ - [circuit](quirk.html#circuit={%22cols%22:[[%22%E2%97%A6%22,%22%E2%97%A6%22,%22%E2%97%A6%22],[%22%E2%80%A2%22,%22%E2%97%A6%22,%22%E2%97%A6%22],[%22%E2%97%A6%22,%22%E2%80%A2%22,%22%E2%97%A6%22],[%22%E2%80%A2%22,%22%E2%80%A2%22,%22%E2%97%A6%22],[%22%E2%97%A6%22,%22%E2%97%A6%22,%22%E2%80%A2%22],[%22%E2%80%A2%22,%22%E2%97%A6%22,%22%E2%80%A2%22],[%22%E2%97%A6%22,%22%E2%80%A2%22,%22%E2%80%A2%22],[%22%E2%80%A2%22,%22%E2%80%A2%22,%22%E2%80%A2%22]]})  \n",
    "* Constant example: $f \\equiv 1$ on 3 bits - [circuit](quirk.html#circuit={%22cols%22:[[%22%E2%97%A6%22,%22%E2%97%A6%22,%22%E2%97%A6%22],[%22%E2%80%A2%22,%22%E2%97%A6%22,%22%E2%97%A6%22],[%22%E2%97%A6%22,%22%E2%80%A2%22,%22%E2%97%A6%22],[%22%E2%80%A2%22,%22%E2%80%A2%22,%22%E2%97%A6%22],[%22%E2%97%A6%22,%22%E2%97%A6%22,%22%E2%80%A2%22],[%22%E2%80%A2%22,%22%E2%97%A6%22,%22%E2%80%A2%22],[%22%E2%97%A6%22,%22%E2%80%A2%22,%22%E2%80%A2%22],[%22%E2%80%A2%22,%22%E2%80%A2%22,%22%E2%80%A2%22]]})  "
   ]
  },
  {
   "cell_type": "markdown",
   "metadata": {
    "slideshow": {
     "slide_type": "slide"
    }
   },
   "source": [
    "# Deutsch Josza Algorithm\n",
    "\n",
    "1. Initial state: $\\ket{0\\dots0}$\n",
    "2. Apply $H^{\\otimes n}$\n",
    "3. Apply oracle $U_f$\n",
    "4. Apply $H^{\\otimes n}$\n",
    "5. Measure all qubits:\n",
    "   * If all outcomes are $0$, then the function is constant\n",
    "   * Otherwise it is balanced\n",
    "\n",
    "\n",
    "Constant $f \\equiv 1$ [example](quirk.html#circuit={\"cols\":[[\"H\",\"H\",\"H\"],[1,1,\"X\"],[\"◦\",\"◦\",\"Z\"],[1,1,\"X\"],[\"Z\",\"◦\",\"◦\"],[\"◦\",\"Z\",\"◦\"],[\"•\",\"Z\",\"◦\"],[\"◦\",\"◦\",\"Z\"],[\"•\",\"◦\",\"Z\"],[\"◦\",\"•\",\"Z\"],[\"•\",\"•\",\"Z\"],[\"H\",\"H\",\"H\"],[\"Measure\",\"Measure\",\"Measure\"]]})\n",
    "\n",
    "Balanced $f$, $f=1$ for even number of bits, otherwise 0 [example](quirk.html#circuit={\"cols\":[[\"H\",\"H\",\"H\"],[1,1,\"X\"],[\"◦\",\"◦\",\"Z\"],[1,1,\"X\"],[\"•\",\"Z\",\"◦\"],[\"•\",\"◦\",\"Z\"],[\"◦\",\"•\",\"Z\"],[\"H\",\"H\",\"H\"],[\"Measure\",\"Measure\",\"Measure\"]]})\n",
    "\n",
    "\n"
   ]
  },
  {
   "cell_type": "markdown",
   "metadata": {
    "slideshow": {
     "slide_type": "subslide"
    }
   },
   "source": [
    "# Proof of Deutsch Josza Algorithm\n",
    "\n",
    "* With normalisation constant $C$ and $x_l, y_l \\in \\{0,1\\}, l\\in\\{1,\\dots,n\\}$\n",
    "$$H\\ket{x_1} = C \\sum_{y_1\\in\\{0,1\\}} (-1)^{x_1y_1} \\ket{y_1}$$\n",
    "$$(H \\otimes H)\\ket{x_2x_1} = C^2\n",
    "                              \\left( \\sum_{y_2\\in\\{0,1\\}} (-1)^{x_2y_2} \\ket{y_2} \\right)\n",
    "                              \\otimes \n",
    "                              \\left( \\sum_{y_1\\in\\{0,1\\}} (-1)^{x_1y_1} \\ket{y_1} \\right)$$\n",
    "$$= C^2 \\sum_{y\\in\\{0,1\\}^2} (-1)^{x_1y_1+x_2y_2}\\ket{y}$$\n",
    "* This generalizes to\n",
    "$$H^{\\otimes n}\\ket{x} = C^n \\sum_{y\\in\\{0,1\\}^n} (-1)^{x\\odot y} \\ket{y}$$\n",
    "with\n",
    "$$x \\odot y = \\sum_l x_ly_l (\\text{mod}\\ 2)$$  "
   ]
  },
  {
   "cell_type": "markdown",
   "metadata": {
    "slideshow": {
     "slide_type": "subslide"
    }
   },
   "source": [
    "* First Hadamard transforms give the state\n",
    "$$C^n \\sum_{x\\in\\{0,1\\}^n} \\ket{x}$$\n",
    "* $O_f$ maps this to\n",
    "$$C^n \\sum_{x\\in\\{0,1\\}} (-1)^{f(x)} \\ket{x}$$\n",
    "* The second Hadamard transforms then give\n",
    "$$C^{2n} \\sum_{x\\in\\{0,1\\}^n} (-1)^{f(x)} \\left(\\sum_{y\\in\\{0,1\\}^n} (-1)^{x \\odot y} \\ket{y}\\right)\n",
    "=C^{2n} \\sum_{y\\in\\{0,1\\}^n} \\sum_{x\\in\\{0,1\\}^n} (-1)^{f(x) + x \\odot y} \\ket{y}$$\n",
    "* Thus, probability of measruing state $\\ket{0\\dots0}$ is\n",
    "$$|C^{2n} \\sum_{x\\in\\{0,1\\}^n} (-1)^{f(x)}|^2 = \n",
    "  \\left\\{ \\begin{array}{ll} 1 & \\text{if }f\\text{ is constant}\\\\\n",
    "                            0 & \\text{if }f\\text{ is balanced}\\end{array}\\right.$$"
   ]
  },
  {
   "cell_type": "markdown",
   "metadata": {
    "slideshow": {
     "slide_type": "slide"
    }
   },
   "source": [
    "# Grover's Search Algorithm\n",
    "\n",
    "* Given a list of $N$ items, find one with a unique property\n",
    "  * $f(x) = 1$ iff $x$ is the unique item, $0$ otherwise\n",
    "  * As before, we assume $x$ is an $n$-bit string\n",
    "    * Can use a sign oracle\n",
    "\n",
    "* Classical algorithm\n",
    "  * In the worst case, we need to look at all $N$ items\n",
    "  * Expected number of items is $N/2$ (if probability is uniform)\n",
    "\n",
    "* Quantum algorithm\n",
    "  * With Grover's algorithm we can find the item in about  $\\sqrt{N}$ steps\n",
    "    * Quadratic speed-up\n",
    "  * Hard limit for possible speedup\n",
    "\n",
    "* Provides a quadratic speedup generically for many classical problems"
   ]
  },
  {
   "cell_type": "markdown",
   "metadata": {
    "slideshow": {
     "slide_type": "subslide"
    }
   },
   "source": [
    "# Amplitude Amplification\n",
    "\n",
    "* Core of Grover's algorithm\n",
    "* Any initial guess for the unique item is fine, so start with a uniform superposition\n",
    "  $$\\ket{s} = \\frac{1}{\\sqrt{2^n}} \\sum_{x\\in\\{0,1\\}^n} \\ket{x}$$\n",
    "  * Guessing the correct value is therefore $1$ in $2^n$\n",
    "  * Expect to guess $N=2^n$ times to find the item\n",
    "\n",
    "* Amplitude amplification\n",
    "  * Increase probability to guess the correct item\n",
    "\n",
    "* $\\ket{s}$ and the item $\\ket{\\omega}$, we wish to find, span a 2D plane in $\\mathbb{C}^N$\n",
    "  * Not orthogonal, as $\\ket{\\omega}$ is part of $\\ket{s}$\n",
    "  * Remove $\\ket{\\omega}$ from $\\ket{s}$ and normalise to get $\\ket{s'}$, orthogonal to $\\ket{\\omega}$\n",
    "  * Implement a rotation to increase probabiltiy of find $\\ket{\\omega}$"
   ]
  },
  {
   "cell_type": "markdown",
   "metadata": {
    "slideshow": {
     "slide_type": "subslide"
    }
   },
   "source": [
    "![Grover's Search](grover.png)"
   ]
  },
  {
   "cell_type": "markdown",
   "metadata": {
    "slideshow": {
     "slide_type": "subslide"
    }
   },
   "source": [
    "# Amplitude Amplification Procedure\n",
    "\n",
    "0. Start with $\\ket{\\Psi_0} = \\ket{s} = H^{\\otimes n}\\ket{0}^n$, $t=0$\n",
    "    * All states are equally likely, have equal amplitudes $1/\\sqrt{N}$\n",
    "1. Apply $U_\\omega = O_f$: $\\ket{\\Psi_{t'}} = O_f\\ket{\\Psi_{t}}$\n",
    "    * Reflection of $\\ket{\\Psi_t}$ about $\\ket{s'}$\n",
    "    * Amplitude of $\\ket{\\omega}$ becomes negative, meaning average amplitude is lowered\n",
    "2. Apply $U_s = 2\\ket{s}\\langle s| - I$: $\\ket{\\Psi_{t+1}} = U_s\\ket{\\Psi_{t'}} = U_sO_f\\ket{\\Psi_t}$\n",
    "    * Two reflections always create a rotation\n",
    "    * $U_sO_f$ rotate the state closer to $\\ket{\\omega}$\n",
    "    * Increases the amplitude of $\\ket{\\omega}$ and lowers all others\n",
    "3. $t \\leftarrow t+1$, repeat from 1"
   ]
  },
  {
   "cell_type": "markdown",
   "metadata": {
    "slideshow": {
     "slide_type": "subslide"
    }
   },
   "source": [
    "Roughly $\\sqrt{N}$ repeats suffice to get close to probability $1$ for $\\ket{\\omega}$\n",
    "* Amplitude grows approximately linear with $t$: $\\sim t/\\sqrt{N}$\n",
    "* Probability is square of amplitude, i.e. $t \\sim \\sqrt{N}$\n",
    "* Additional repeats may reduce the amplitude again!\n",
    "\n",
    "Example [5-bit cirtcuit](quirk.html#circuit={\"cols\":[[\"H\",\"H\",\"H\",\"H\",\"H\"],[\"Chance5\"],[\"Amps5\"],[],[],[\"~vn6c\"],[\"Amps5\"],[],[],[\"H\",\"H\",\"H\",\"H\",\"H\"],[\"X\",\"X\",\"X\",\"X\",\"X\"],[\"•\",\"•\",\"•\",\"•\",\"Z\"],[\"X\",\"X\",\"X\",\"X\",\"X\"],[\"H\",\"H\",\"H\",\"H\",\"H\"],[\"Amps5\"],[],[],[\"Chance5\"],[\"~vn6c\"],[\"~qgrv\"],[\"Chance5\"],[\"~vn6c\"],[\"~qgrv\"],[\"Chance5\"],[\"~vn6c\"],[\"~qgrv\"],[\"Chance5\"],[\"Sample5\"]],\"gates\":[{\"id\":\"~vn6c\",\"name\":\"Oracle\",\"circuit\":{\"cols\":[[\"Z\",\"•\",\"◦\",\"•\",\"•\"]]}},{\"id\":\"~qgrv\",\"name\":\"U_s\",\"circuit\":{\"cols\":[[\"H\",\"H\",\"H\",\"H\",\"H\"],[\"X\",\"X\",\"X\",\"X\",\"X\"],[\"•\",\"•\",\"•\",\"•\",\"Z\"],[\"X\",\"X\",\"X\",\"X\",\"X\"],[\"H\",\"H\",\"H\",\"H\",\"H\"]]}}]})\n",
    "\n",
    "* Note, instead of $H^{\\otimes n}$, we can initially apply $(HX)^{\\otimes n}$\n",
    "  * Creates superposition state with \"mixed phases\"\n",
    "\n",
    "* $O_f$ still inverts the phase of $\\ket{\\omega}$\n",
    "\n",
    "* A multi-anti-controlled not gate then provides the equivalent $U_s$ operation\n",
    "\n",
    "Example [5-bit circuit](quirk.html#circuit={\"cols\":[[\"X\",\"X\",\"X\",\"X\",\"X\"],[\"H\",\"H\",\"H\",\"H\",\"H\"],[\"Chance5\"],[\"Amps5\"],[],[],[\"~vn6c\"],[\"Amps5\"],[],[],[\"⊖\",\"⊖\",\"⊖\",\"⊖\",\"X\"],[\"Amps5\"],[],[],[\"Chance5\"],[\"~vn6c\"],[\"⊖\",\"⊖\",\"⊖\",\"⊖\",\"X\"],[\"Chance5\"],[\"~vn6c\"],[\"⊖\",\"⊖\",\"⊖\",\"⊖\",\"X\"],[\"Chance5\"],[\"~vn6c\"],[\"⊖\",\"⊖\",\"⊖\",\"⊖\",\"X\"],[\"Chance5\"]],\"gates\":[{\"id\":\"~vn6c\",\"name\":\"Oracle\",\"circuit\":{\"cols\":[[\"Z\",\"•\",\"◦\",\"•\",\"•\"]]}}]})\n"
   ]
  },
  {
   "cell_type": "markdown",
   "metadata": {
    "slideshow": {
     "slide_type": "slide"
    }
   },
   "source": [
    "# Factorisation \n",
    "\n",
    "* Factorise an integer $R$ with $d$ digits\n",
    "  * Brute force\n",
    "    * Find all prime numbers $p$ up to $\\sqrt{R}$ and check whether $p$ divides $R$\n",
    "    * This is exponential in $d$\n",
    "  * Quadratic sieve\n",
    "    * Construct $a$, $b$ such that $a^2-b^2$ is a multiple of $R$\n",
    "    * Check whether $a \\pm b$ have common factors with $R$\n",
    "    * This is exponential in $\\sqrt{d}$\n",
    "  * General number field sieve (GNFS) - best known classical approach\n",
    "    * Exponential in $d^{1/3}$\n",
    "  * Shor's algorithm\n",
    "    * Polynomial in $d$"
   ]
  },
  {
   "cell_type": "markdown",
   "metadata": {
    "slideshow": {
     "slide_type": "subslide"
    }
   },
   "source": [
    "# Period Finding\n",
    "\n",
    "* Given integers $R$ and $a$\n",
    "  * Find smallest positive integer $p$ such that $a^p-1$ is a multiple of $R$\n",
    "  * $p$ is called the period of $a$ modulo $R$\n",
    "    * The period of $a$ modulo $R$ is the smallest ineger $p$ such that $a^p = 1 (\\text{mod } R)$\n",
    "  * In general well defined if $R$ and $a$ are co-prime (have no common factors)\n",
    "\n",
    "* E.g. $R=15, a=7$:\n",
    "  * $7^2 = 4 (\\text{mod } 15)$\n",
    "  * $7^3 = 4*7 = 13 (\\text{mod } 15)$\n",
    "  * $7^4 = 13*7 = 1 (\\text{mod } 15)$\n",
    "  * $7$ has period $4$ modulo $15$"
   ]
  },
  {
   "cell_type": "markdown",
   "metadata": {
    "slideshow": {
     "slide_type": "subslide"
    }
   },
   "source": [
    "# Factoring and Period Finding\n",
    "\n",
    "* Assume we can find the period $r$ of $a$ modulo $R$, given $a$ and $R$ are co-prime\n",
    "* For simplicity, assume $R=f_1f_2$ has only two prime factors\n",
    "\n",
    "* Procedure to find the prime factors of $R$:\n",
    "  * Pick a random integer $a$ between $2$ and $R-1$\n",
    "  * $g = GCD(R,a)$ is greatest common divisor (Euclid's algorithm)\n",
    "  * If we are lucky, $a$ and $R$ have some common prime factors, i.e. $g$ is either $f_1$ or $f_2$:\n",
    "    * We are done.\n",
    "  * Compute the period $p$ of $a$ modulo $R$\n",
    "  * Repeat above (with new random $a$) until $p$ is even\n",
    "    * A significant fraction of all integers $a$ have even period\n",
    " "
   ]
  },
  {
   "cell_type": "markdown",
   "metadata": {
    "slideshow": {
     "slide_type": "subslide"
    }
   },
   "source": [
    "  * If $p$ is even:\n",
    "    * Note, $u-1 = (\\sqrt{u}-1)(\\sqrt{u}+1)$ with $u = a^p$\n",
    "    * So $a^{p/2}-1$ is not a multiple of $R$ (otherwise the period of $a$ modulo $R$ would be $p/2$)\n",
    "    * If $a^{p/2}+1$ is not a multiple of $R$:\n",
    "      * That means $f_1$ is a prime factor of $a^{p/2}-1$ and $f_2$ is a prime factor of $a^{p/2}+1$ (or vice versa)\n",
    "      * So we can find $f_1,f_2$ by $GCD(R,a^{p/2} \\pm 1)$\n",
    "    * If, unluckily, $a^{p/2}+1$ is a multiple of $R$\n",
    "      * Give up and try a different $a$ (not too common)\n",
    "\n",
    "* On average we only have to call the period finding machine twice to factor $R$!\n",
    "  * The core of Shor's algorithm uses a quantum computer, mainly computing the Qunatum Fourier Transform, to find the period"
   ]
  },
  {
   "cell_type": "markdown",
   "metadata": {
    "slideshow": {
     "slide_type": "slide"
    }
   },
   "source": [
    "# Quantum Fourier Transform\n",
    "\n",
    "* [QFT circuit](quirk.html#circuit={\"cols\":[[\"Counting8\"],[\"Chance8\"],[\"…\",\"…\",\"…\",\"…\",\"…\",\"…\",\"…\",\"…\"],[\"Swap\",1,1,1,1,1,1,\"Swap\"],[1,\"Swap\",1,1,1,1,\"Swap\"],[1,1,\"Swap\",1,1,\"Swap\"],[1,1,1,\"Swap\",\"Swap\"],[\"H\"],[\"Z^½\",\"•\"],[1,\"H\"],[\"Z^¼\",\"Z^½\",\"•\"],[1,1,\"H\"],[\"Z^⅛\",\"Z^¼\",\"Z^½\",\"•\"],[1,1,1,\"H\"],[\"Z^⅟₁₆\",\"Z^⅛\",\"Z^¼\",\"Z^½\",\"•\"],[1,1,1,1,\"H\"],[\"Z^⅟₃₂\",\"Z^⅟₁₆\",\"Z^⅛\",\"Z^¼\",\"Z^½\",\"•\"],[1,1,1,1,1,\"H\"],[\"Z^⅟₆₄\",\"Z^⅟₃₂\",\"Z^⅟₁₆\",\"Z^⅛\",\"Z^¼\",\"Z^½\",\"•\"],[1,1,1,1,1,1,\"H\"],[\"Z^⅟₁₂₈\",\"Z^⅟₆₄\",\"Z^⅟₃₂\",\"Z^⅟₁₆\",\"Z^⅛\",\"Z^¼\",\"Z^½\",\"•\"],[1,1,1,1,1,1,1,\"H\"]]}) and inverse QFT\n",
    "\n",
    "* [Inverse QFT of a periodic state](quirk.html#circuit={\"cols\":[[1,1,1,\"H\",\"H\",\"H\",\"H\"],[\"Counting7\"],[\"Chance7\"],[\"QFT†7\"],[\"Chance7\"]]})\n",
    "  * The output has a number of peaks equal to the period of the input\n",
    "\n",
    "* [Prepare a periodic quantum state](quirk.html#circuit={\"cols\":[[1,1,1,1,1,1,1,1,{\"id\":\"setR\",\"arg\":5}],[\"H\",\"H\",\"H\",\"H\",\"H\",\"H\",\"H\"],[\"inputA7\",1,1,1,1,1,1,\"+AmodR3\"],[\"QFT†7\"],[\"Chance7\"],[\"Sample7\"]]})\n",
    "  * We do not see the probabilty distribution on a quantum computer, only the measurements\n",
    "  * We would have to sample the output $O(\\sqrt{p})$ times if there were $p$ peaks to get a reasonable idea"
   ]
  },
  {
   "cell_type": "markdown",
   "metadata": {
    "slideshow": {
     "slide_type": "subslide"
    }
   },
   "source": [
    "# Guessing the period from a sample\n",
    "\n",
    "* Suppose we are sampling from a frequency space of size $1024$\n",
    "  * We do not know the peiord of the input\n",
    "  * We got a frequency sample $339$\n",
    "  * Looks like... $3$  ($1024/3 \\sim 341$)\n",
    "\n",
    "* For huge ranges of possible periods, we use the \"continued fractions algorithms for the best rational approximation\" (also Diophantine approximation and Pade approximant)"
   ]
  },
  {
   "cell_type": "code",
   "execution_count": 2,
   "metadata": {
    "slideshow": {
     "slide_type": "-"
    }
   },
   "outputs": [
    {
     "name": "stdout",
     "output_type": "stream",
     "text": [
      "3\n"
     ]
    }
   ],
   "source": [
    "from fractions import Fraction\n",
    "\n",
    "def sampled_freq_to_period(sample_freq, num_freqs, max_period):\n",
    "  f = Fraction(sample_freq, num_freqs).limit_denominator(max_period)\n",
    "  return f.denominator\n",
    "\n",
    "print(sampled_freq_to_period (339, 1024, 10))"
   ]
  },
  {
   "cell_type": "markdown",
   "metadata": {
    "slideshow": {
     "slide_type": "-"
    }
   },
   "source": [
    "* We may be unlucky and get a sample frequency close to $0$, but that is unlikley\n",
    "* Note, when factoring a number $R$ with $d$ bits, the maximum period will be $2^d$\n",
    "  * We need $O(\\lg 2^d) = O(d)$ qubits"
   ]
  },
  {
   "cell_type": "markdown",
   "metadata": {
    "slideshow": {
     "slide_type": "subslide"
    }
   },
   "source": [
    "# Preparing states with unknown periods\n",
    "\n",
    "* So far we only produced states with modular addition\n",
    "  * We knew the modulus when we created the circuit!\n",
    "  * In order to do something interesting, we have to be able to make a period state producing circuit from start to finish and still not know what period its state will have\n",
    "\n",
    "* [Period of $f(x) = 2^x (\\text{mod} 23)$](quirk.html#circuit={\"cols\":[[1,1,1,1,1,1,1,1,1,\"setB\",1,{\"id\":\"setR\",\"arg\":23}],[\"H\",\"H\",\"H\",\"H\",\"H\",\"H\",\"H\",\"H\",\"X\"],[\"inputA8\",1,1,1,1,1,1,1,\"*BToAmodR5\"],[\"QFT†8\"],[\"Chance8\"],[\"Sample8\"]]})"
   ]
  },
  {
   "cell_type": "code",
   "execution_count": 3,
   "metadata": {
    "slideshow": {
     "slide_type": "-"
    }
   },
   "outputs": [
    {
     "name": "stdout",
     "output_type": "stream",
     "text": [
      "11\n"
     ]
    }
   ],
   "source": [
    "print(sampled_freq_to_period(186,512,50))"
   ]
  },
  {
   "cell_type": "markdown",
   "metadata": {
    "slideshow": {
     "slide_type": "-"
    }
   },
   "source": [
    "* [Period of $f(x) = 7^x (\\text{mod} 58)$](quirk.html#circuit=%7B\"cols\"%3A%5B%5B1%2C1%2C1%2C1%2C1%2C1%2C1%2C1%2C1%2C1%2C1%2C1%2C%7B\"id\"%3A\"setB\"%2C\"arg\"%3A7%7D%2C1%2C%7B\"id\"%3A\"setR\"%2C\"arg\"%3A58%7D%5D%2C%5B\"H\"%2C\"H\"%2C\"H\"%2C\"H\"%2C\"H\"%2C\"H\"%2C\"H\"%2C\"H\"%2C\"H\"%2C\"H\"%2C\"X\"%5D%2C%5B\"inputA10\"%2C1%2C1%2C1%2C1%2C1%2C1%2C1%2C1%2C1%2C\"*BToAmodR6\"%5D%2C%5B\"QFT†10\"%5D%2C%5B\"Sample10\"%5D%5D%7D)"
   ]
  },
  {
   "cell_type": "code",
   "execution_count": 4,
   "metadata": {
    "slideshow": {
     "slide_type": "-"
    }
   },
   "outputs": [
    {
     "name": "stdout",
     "output_type": "stream",
     "text": [
      "7\n"
     ]
    }
   ],
   "source": [
    "print(sampled_freq_to_period(878,1024,58))"
   ]
  },
  {
   "cell_type": "markdown",
   "metadata": {
    "slideshow": {
     "slide_type": "slide"
    }
   },
   "source": [
    "# Shor's Algorithm\n",
    "\n",
    "\n",
    "![Flowchart](shor_flowchart.png)"
   ]
  }
 ],
 "metadata": {
  "celltoolbar": "Slideshow",
  "hide_input": false,
  "kernelspec": {
   "display_name": "Python 3",
   "language": "python",
   "name": "python3"
  },
  "language_info": {
   "codemirror_mode": {
    "name": "ipython",
    "version": 3
   },
   "file_extension": ".py",
   "mimetype": "text/x-python",
   "name": "python",
   "nbconvert_exporter": "python",
   "pygments_lexer": "ipython3",
   "version": "3.7.6"
  },
  "latex_envs": {
   "LaTeX_envs_menu_present": true,
   "autoclose": false,
   "autocomplete": true,
   "bibliofile": "biblio.bib",
   "cite_by": "apalike",
   "current_citInitial": 1,
   "eqLabelWithNumbers": true,
   "eqNumInitial": 1,
   "hotkeys": {
    "equation": "Ctrl-E",
    "itemize": "Ctrl-I"
   },
   "labels_anchors": false,
   "latex_user_defs": false,
   "report_style_numbering": false,
   "user_envs_cfg": false
  }
 },
 "nbformat": 4,
 "nbformat_minor": 2
}
