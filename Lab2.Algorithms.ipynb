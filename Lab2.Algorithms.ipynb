{
 "cells": [
  {
   "cell_type": "markdown",
   "metadata": {
    "slideshow": {
     "slide_type": "slide"
    }
   },
   "source": [
    "# Quantum Computing\n",
    "\n",
    "## Lab 2. Algorithms\n",
    "\n",
    "**Frank C Langbein**\n",
    "\n",
    "$\\def\\ket#1{|#1\\rangle} \\def\\bra#1{\\langle#1|}$"
   ]
  },
  {
   "cell_type": "code",
   "execution_count": 1,
   "metadata": {
    "slideshow": {
     "slide_type": "-"
    }
   },
   "outputs": [],
   "source": [
    "from qutip import *\n",
    "import numpy as np"
   ]
  },
  {
   "cell_type": "markdown",
   "metadata": {
    "slideshow": {
     "slide_type": "slide"
    }
   },
   "source": [
    "# Oracles\n",
    "\n",
    "Create a quantum circuit to implement the following oracles as sign and bit oracle:\n",
    "\n",
    "1. $f_1$ given by\n",
    "\n",
    "|x_1|x_1|f_1(x_1,x_2)|\n",
    "|---|---|------------|\n",
    "|0  |0  | 0 |\n",
    "|0  |1  | 0 |\n",
    "|1  |0  | 1 |\n",
    "|1  |1  | 1 |\n",
    "\n",
    "2. $$f_2(x_1,x_2,x_3,x_4) = (x_1 \\text{ XOR } x_2) \\text{ AND } (x_3 \\text{ AND }x_4)$$ \n",
    "\n",
    "3. $$f_3(x_1,x_2,x_3) = \\text{NOT}(x_1 \\text{ AND } x_2 \\text{ AND } x_3) \\text{ OR } (x_1 \\text{ AND } x_2 \\text{ AND } x_3)$$"
   ]
  },
  {
   "cell_type": "markdown",
   "metadata": {
    "slideshow": {
     "slide_type": "subslide"
    }
   },
   "source": [
    "# Solution\n",
    "\n",
    "1. Bit Oracles\n",
    "   * [$f_1$ Bit Oracle](quirk.html#circuit={\"cols\":[[\"◦\",\"◦\"],[\"•\",\"◦\"],[\"◦\",\"•\"],[\"•\",\"•\"]]})\n",
    "   * [$f_2$ Bit Oracle](quirk.html#circuit={\"cols\":[[\"◦\",\"◦\",\"◦\",\"◦\"],[\"•\",\"◦\",\"◦\",\"◦\"],[\"◦\",\"•\",\"◦\",\"◦\"],[\"•\",\"•\",\"◦\",\"◦\"],[\"◦\",\"◦\",\"•\",\"◦\"],[\"•\",\"◦\",\"•\",\"◦\"],[\"◦\",\"•\",\"•\",\"◦\"],[\"•\",\"•\",\"•\",\"◦\"],[\"◦\",\"◦\",\"◦\",\"•\"],[\"•\",\"◦\",\"◦\",\"•\"],[\"◦\",\"•\",\"◦\",\"•\"],[\"•\",\"•\",\"◦\",\"•\"],[\"◦\",\"◦\",\"•\",\"•\"],[\"•\",\"◦\",\"•\",\"•\"],[\"◦\",\"•\",\"•\",\"•\"],[\"•\",\"•\",\"•\",\"•\"]]})\n",
    "   * [$f_3$ Bit Oracle](quirk.html#circuit={\"cols\":[[\"◦\",\"◦\",\"◦\",\"◦\"],[\"•\",\"◦\",\"◦\",\"◦\"],[\"◦\",\"•\",\"◦\",\"◦\"],[\"•\",\"•\",\"◦\",\"◦\"],[\"◦\",\"◦\",\"•\",\"◦\"],[\"•\",\"◦\",\"•\",\"◦\"],[\"◦\",\"•\",\"•\",\"◦\"],[\"•\",\"•\",\"•\",\"◦\"],[\"◦\",\"◦\",\"◦\",\"•\"],[\"•\",\"◦\",\"◦\",\"•\"],[\"◦\",\"•\",\"◦\",\"•\"],[\"•\",\"•\",\"◦\",\"•\"],[\"◦\",\"◦\",\"•\",\"•\"],[\"•\",\"◦\",\"•\",\"•\"],[\"◦\",\"•\",\"•\",\"•\"],[\"•\",\"•\",\"•\",\"•\"]]})\n",
    "\n",
    "2. Sign Oracles\n",
    "   * [$f_1$ Sign Oracle](quirk.html#circuit={\"cols\":[[\"◦\",\"◦\"],[\"•\",\"◦\"],[\"◦\",\"•\"],[\"•\",\"•\"]]})\n",
    "   * [$f_2$ Sign Oracle](quirk.html#circuit={\"cols\":[[\"◦\",\"◦\",\"◦\",\"◦\"],[\"•\",\"◦\",\"◦\",\"◦\"],[\"◦\",\"•\",\"◦\",\"◦\"],[\"•\",\"•\",\"◦\",\"◦\"],[\"◦\",\"◦\",\"•\",\"◦\"],[\"•\",\"◦\",\"•\",\"◦\"],[\"◦\",\"•\",\"•\",\"◦\"],[\"•\",\"•\",\"•\",\"◦\"],[\"◦\",\"◦\",\"◦\",\"•\"],[\"•\",\"◦\",\"◦\",\"•\"],[\"◦\",\"•\",\"◦\",\"•\"],[\"•\",\"•\",\"◦\",\"•\"],[\"◦\",\"◦\",\"•\",\"•\"],[\"•\",\"◦\",\"•\",\"•\"],[\"◦\",\"•\",\"•\",\"•\"],[\"•\",\"•\",\"•\",\"•\"]]})\n",
    "   * [$f_3$ Bit Oracle](quirk.html#circuit={\"cols\":[[\"◦\",\"◦\",\"◦\",\"◦\"],[\"•\",\"◦\",\"◦\",\"◦\"],[\"◦\",\"•\",\"◦\",\"◦\"],[\"•\",\"•\",\"◦\",\"◦\"],[\"◦\",\"◦\",\"•\",\"◦\"],[\"•\",\"◦\",\"•\",\"◦\"],[\"◦\",\"•\",\"•\",\"◦\"],[\"•\",\"•\",\"•\",\"◦\"],[\"◦\",\"◦\",\"◦\",\"•\"],[\"•\",\"◦\",\"◦\",\"•\"],[\"◦\",\"•\",\"◦\",\"•\"],[\"•\",\"•\",\"◦\",\"•\"],[\"◦\",\"◦\",\"•\",\"•\"],[\"•\",\"◦\",\"•\",\"•\"],[\"◦\",\"•\",\"•\",\"•\"],[\"•\",\"•\",\"•\",\"•\"]]})\n",
    "\n"
   ]
  },
  {
   "cell_type": "markdown",
   "metadata": {
    "slideshow": {
     "slide_type": "slide"
    }
   },
   "source": [
    "# Grover's Search\n",
    "\n",
    "Create a quantum circuit to implement Grover's search to find $\\ket{1011}$."
   ]
  },
  {
   "cell_type": "markdown",
   "metadata": {
    "slideshow": {
     "slide_type": "subslide"
    }
   },
   "source": [
    "# Solution\n",
    "\n",
    "[Grover circuit for $\\ket{1011}$](quirk.html)"
   ]
  },
  {
   "cell_type": "markdown",
   "metadata": {
    "slideshow": {
     "slide_type": "slide"
    }
   },
   "source": [
    "# Reconstructing an Oracle\n",
    "\n",
    "Assume you are given a sign oracle $O_f$ for a function of the type\n",
    "\n",
    "$$f(x_1,\\dots,x_n) = x_1a_1 \\oplus x_2a_2 \\oplus \\cdots \\oplus x_na_n$$\n",
    "\n",
    "where $x_l$ and $a_l$ are $n$-bit strings and $\\oplus$ is the addition modulo $2$. I.e. $f$ calculates the modulo-two sum of the $x_l$ for which $a_l = 1$.\n",
    "\n",
    "Create a quantum algorithm that can find the bit-string $a_l$ from evaluating $O_f$ for four bits. The solution cirucits below contain an (unknown) oracle which you should try to reconstruct.\n",
    "\n",
    "Show that a quantum algorithm requires less evlauations of $f$ than a classical algorithm to solve this problem and explain how your algorithm works."
   ]
  },
  {
   "cell_type": "markdown",
   "metadata": {
    "slideshow": {
     "slide_type": "subslide"
    }
   },
   "source": [
    "# Solution\n",
    "\n",
    "[Circuit for Oracle 1](quirk.html#circuit={\"cols\":[[1,\"~1meb\"]],\"gates\":[{\"id\":\"~1meb\",\"name\":\"O1\",\"circuit\":{\"cols\":[[\"◦\",1,\"Z\"],[\"Z\",1,\"◦\"]]}}]})\n",
    "\n",
    "Note, oracle 1 ($O1$) is across all four qubits, but does not act on the first qubit, so in quirk only spans 3 qubits.\n",
    "\n",
    "[Circuit for Oracle 2](quirk.html#circuit={%22cols%22:[[%22~3aup%22]],%22gates%22:[{%22id%22:%22~3aup%22,%22name%22:%22O2%22,%22circuit%22:{%22cols%22:[[%22%E2%97%A6%22,1,%22Z%22,%22%E2%97%A6%22],[%22Z%22,1,%22%E2%97%A6%22,%22%E2%97%A6%22],[%22%E2%97%A6%22,1,%22%E2%97%A6%22,%22Z%22],[%22%E2%80%A2%22,1,%22%E2%80%A2%22,%22Z%22]]}}]})\n",
    "\n"
   ]
  },
  {
   "cell_type": "code",
   "execution_count": null,
   "metadata": {},
   "outputs": [],
   "source": []
  }
 ],
 "metadata": {
  "celltoolbar": "Slideshow",
  "hide_input": false,
  "kernelspec": {
   "display_name": "Python 3",
   "language": "python",
   "name": "python3"
  },
  "language_info": {
   "codemirror_mode": {
    "name": "ipython",
    "version": 3
   },
   "file_extension": ".py",
   "mimetype": "text/x-python",
   "name": "python",
   "nbconvert_exporter": "python",
   "pygments_lexer": "ipython3",
   "version": "3.7.6"
  },
  "latex_envs": {
   "LaTeX_envs_menu_present": true,
   "autoclose": false,
   "autocomplete": true,
   "bibliofile": "biblio.bib",
   "cite_by": "apalike",
   "current_citInitial": 1,
   "eqLabelWithNumbers": true,
   "eqNumInitial": 1,
   "hotkeys": {
    "equation": "Ctrl-E",
    "itemize": "Ctrl-I"
   },
   "labels_anchors": false,
   "latex_user_defs": false,
   "report_style_numbering": false,
   "user_envs_cfg": false
  }
 },
 "nbformat": 4,
 "nbformat_minor": 2
}
